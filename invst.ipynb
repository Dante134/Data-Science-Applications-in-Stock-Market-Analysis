{
 "cells": [
  {
   "cell_type": "code",
   "execution_count": 3,
   "id": "28e40e82",
   "metadata": {},
   "outputs": [
    {
     "name": "stdout",
     "output_type": "stream",
     "text": [
      "Average Turnover per Day: ₹ 23794.032842105265\n",
      "Number of Trading Days: 1240\n",
      "Number of Months: 12\n",
      "Average Turnover per Month: ₹ 22877.169844165328\n",
      "Investment Strategy Recommendation: You may consider investing some amount daily.\n"
     ]
    }
   ],
   "source": [
    "import pandas as pd\n",
    "\n",
    "# Defining the list of CSV files\n",
    "csv_files = ['/home/ayus/Downloads/rtut/Nifty1.csv', '/home/ayus/Downloads/rtut/Nifty2.csv', '/home/ayus/Downloads/rtut/Nifty3.csv', '//home/ayus/Downloads/rtut/Nifty4.csv', '/home/ayus/Downloads/rtut/Nifty5.csv']\n",
    "\n",
    "# Reading and concatenating the datasets\n",
    "data = pd.DataFrame()\n",
    "for file in csv_files:\n",
    "    df = pd.read_csv(file)\n",
    "    data = pd.concat([data, df], ignore_index=True)\n",
    "\n",
    "# Modifying the column names by removing leading/trailing whitespace\n",
    "data.columns = data.columns.str.strip()\n",
    "\n",
    "# Converting'Date' column to datetime\n",
    "data['Date'] = pd.to_datetime(data['Date'], format='%d-%b-%Y')\n",
    "\n",
    "# Calculating average turnover per day\n",
    "average_turnover_per_day = data['Turnover (₹ Cr)'].mean()\n",
    "\n",
    "# Calculating the number of trading days\n",
    "num_trading_days = data.shape[0]\n",
    "\n",
    "# Calculating the number of months\n",
    "num_months = data['Date'].dt.month.nunique()\n",
    "\n",
    "# Calculating average turnover per month\n",
    "average_turnover_per_month = data.groupby(data['Date'].dt.month)['Turnover (₹ Cr)'].mean().mean()\n",
    "\n",
    "# Investment Strategy Recommendation\n",
    "investment_strategy = \"\"\n",
    "if num_trading_days <= num_months:\n",
    "    investment_strategy = \"You may consider investing once in a month.\"\n",
    "else:\n",
    "    investment_strategy = \"You may consider investing some amount daily.\"\n",
    "\n",
    "# Printing the results\n",
    "print(\"Average Turnover per Day: ₹\", average_turnover_per_day)\n",
    "print(\"Number of Trading Days:\", num_trading_days)\n",
    "print(\"Number of Months:\", num_months)\n",
    "print(\"Average Turnover per Month: ₹\", average_turnover_per_month)\n",
    "print(\"Investment Strategy Recommendation:\", investment_strategy)"
   ]
  },
  {
   "cell_type": "code",
   "execution_count": null,
   "id": "e44439f7",
   "metadata": {},
   "outputs": [],
   "source": []
  }
 ],
 "metadata": {
  "kernelspec": {
   "display_name": "Python 3 (ipykernel)",
   "language": "python",
   "name": "python3"
  },
  "language_info": {
   "codemirror_mode": {
    "name": "ipython",
    "version": 3
   },
   "file_extension": ".py",
   "mimetype": "text/x-python",
   "name": "python",
   "nbconvert_exporter": "python",
   "pygments_lexer": "ipython3",
   "version": "3.10.9"
  }
 },
 "nbformat": 4,
 "nbformat_minor": 5
}
