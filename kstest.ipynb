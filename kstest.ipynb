{
 "cells": [
  {
   "cell_type": "code",
   "execution_count": 4,
   "id": "3f7ebc51",
   "metadata": {},
   "outputs": [
    {
     "name": "stdout",
     "output_type": "stream",
     "text": [
      "KS test statistic for Opening prices (norm): 0.1418, p-value: 0.0000\n",
      "KS test statistic for Closing prices (norm): 0.1393, p-value: 0.0000\n",
      "KS test statistic for Opening prices (lognorm): 0.1125, p-value: 0.0000\n",
      "KS test statistic for Closing prices (lognorm): 0.1129, p-value: 0.0000\n",
      "KS test statistic for Opening prices (expon): 0.1014, p-value: 0.0000\n",
      "KS test statistic for Closing prices (expon): 0.1026, p-value: 0.0000\n",
      "KS test statistic for Opening prices (gamma): 0.1062, p-value: 0.0000\n",
      "KS test statistic for Closing prices (gamma): 0.1064, p-value: 0.0000\n"
     ]
    }
   ],
   "source": [
    "import pandas as pd\n",
    "import numpy as np\n",
    "from scipy.stats import kstest\n",
    "import scipy.stats as stats\n",
    "\n",
    "\n",
    "# Define the list of CSV files\n",
    "csv_files = [\n",
    "    '/home/ayus/Downloads/rtut/2018-2019_ICICI.csv',\n",
    "    '/home/ayus/Downloads/rtut/2019-2020_ICICI.csv',\n",
    "    '/home/ayus/Downloads/rtut/2020-2021_ICICI.csv',\n",
    "    '/home/ayus/Downloads/rtut/2021-2022_ICICI.csv',\n",
    "    '/home/ayus/Downloads/rtut/2022-2023_ICICI.csv'\n",
    "]\n",
    "\n",
    "# Read and concatenate the datasets\n",
    "df_icici = pd.concat([pd.read_csv(file) for file in csv_files], ignore_index=True)\n",
    "\n",
    "# Modify the column names by removing leading/trailing whitespace\n",
    "df_icici.columns = df_icici.columns.str.strip()\n",
    "\n",
    "# Extract the Opening and Closing prices from the DataFrame\n",
    "opening_prices = df_icici['Open Price'].values\n",
    "closing_prices = df_icici['Close Price'].values\n",
    "\n",
    "# Perform checks for KS test\n",
    "is_valid_for_ks = True\n",
    "\n",
    "# Check if the data is continuous\n",
    "is_continuous = np.issubdtype(opening_prices.dtype, np.number)\n",
    "if not is_continuous:\n",
    "    is_valid_for_ks = False\n",
    "    print(\"Data is not continuous and may not be suitable for the KS test.\")\n",
    "\n",
    "# Check if the sample size is adequate\n",
    "sample_size = len(opening_prices)\n",
    "if sample_size < 30:\n",
    "    is_valid_for_ks = False\n",
    "    print(\"Sample size is small and may not be suitable for the KS test.\")\n",
    "\n",
    "# Perform the KS test if the data is valid\n",
    "if is_valid_for_ks:\n",
    "    distribution_names = ['norm', 'lognorm', 'expon', 'gamma']\n",
    "\n",
    "    for distribution in distribution_names:\n",
    "        # Fit the data to the distribution\n",
    "        params_opening = getattr(stats, distribution).fit(opening_prices)\n",
    "        params_closing = getattr(stats, distribution).fit(closing_prices)\n",
    "\n",
    "        # Compute KS test statistics and p-values\n",
    "        test_statistic_opening, p_value_opening = kstest(opening_prices, distribution, args=params_opening)\n",
    "        test_statistic_closing, p_value_closing = kstest(closing_prices, distribution, args=params_closing)\n",
    "\n",
    "        print(f\"KS test statistic for Opening prices ({distribution}): {test_statistic_opening:.4f}, p-value: {p_value_opening:.4f}\")\n",
    "        print(f\"KS test statistic for Closing prices ({distribution}): {test_statistic_closing:.4f}, p-value: {p_value_closing:.4f}\")\n"
   ]
  },
  {
   "cell_type": "code",
   "execution_count": null,
   "id": "da576bd0",
   "metadata": {},
   "outputs": [],
   "source": []
  }
 ],
 "metadata": {
  "kernelspec": {
   "display_name": "Python 3 (ipykernel)",
   "language": "python",
   "name": "python3"
  },
  "language_info": {
   "codemirror_mode": {
    "name": "ipython",
    "version": 3
   },
   "file_extension": ".py",
   "mimetype": "text/x-python",
   "name": "python",
   "nbconvert_exporter": "python",
   "pygments_lexer": "ipython3",
   "version": "3.10.9"
  }
 },
 "nbformat": 4,
 "nbformat_minor": 5
}
